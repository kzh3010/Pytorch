{
  "nbformat": 4,
  "nbformat_minor": 0,
  "metadata": {
    "colab": {
      "provenance": [],
      "authorship_tag": "ABX9TyN9HdS+mDZ9HM7opgshamve"
    },
    "kernelspec": {
      "name": "python3",
      "display_name": "Python 3"
    },
    "language_info": {
      "name": "python"
    }
  },
  "cells": [
    {
      "cell_type": "code",
      "source": [
        "import torch\n",
        "\n",
        "print(f\"PyTorch Version: {torch.__version__}\")"
      ],
      "metadata": {
        "colab": {
          "base_uri": "https://localhost:8080/"
        },
        "id": "2lLdbRQCn8y_",
        "outputId": "5f7a766d-874d-49f4-8fa3-5fecce4d36f8"
      },
      "execution_count": 1,
      "outputs": [
        {
          "output_type": "stream",
          "name": "stdout",
          "text": [
            "PyTorch Version: 2.6.0+cu124\n"
          ]
        }
      ]
    },
    {
      "cell_type": "markdown",
      "source": [
        "## pytorch 기초 텐서\n",
        "\n",
        "### 1. Tensor\n",
        "\n",
        "데이터를 처리하는데 Tensor라는 자료 구조를 사용\n",
        "\n",
        "데이터를 표현하는 기본 도구 이며, 계산 및 딥러닝 모델의 가중치 계산에서 사용\n",
        "\n",
        "<img src=\"https://res.cloudinary.com/practicaldev/image/fetch/s--8pw60d5S--/c_limit%2Cf_auto%2Cfl_progressive%2Cq_auto%2Cw_800/https://raw.githubusercontent.com/adhiraiyan/DeepLearningWithTF2.0/master/notebooks/figures/fig0201a.png\">\n",
        "\n",
        "\n",
        "텐서는 위와 같이 4개의 형태로 구분이 된다.\n",
        "- 0차원 텐서 => 스칼라\n",
        "- 1차원 텐서 => 벡터\n",
        "- 2차원 텐서 => 행렬\n",
        "- 3차원 텐서 => RGB 이미지 표현"
      ],
      "metadata": {
        "id": "90T_cCFEnrNv"
      }
    },
    {
      "cell_type": "code",
      "execution_count": 16,
      "metadata": {
        "colab": {
          "base_uri": "https://localhost:8080/"
        },
        "id": "SfMd-_baiH4h",
        "outputId": "f1730b7a-76a5-4a9b-b700-95a7d98f2c2a"
      },
      "outputs": [
        {
          "output_type": "stream",
          "name": "stdout",
          "text": [
            "scalar : 5\n",
            "vector : tensor([1, 2, 3])\n",
            "matrix : tensor([[1, 2, 3],\n",
            "        [4, 5, 6]])\n",
            "array : tensor([[[ 1,  2,  3],\n",
            "         [ 4,  5,  6]],\n",
            "\n",
            "        [[ 7,  8,  9],\n",
            "         [10, 11, 12]],\n",
            "\n",
            "        [[13, 14, 15],\n",
            "         [16, 17, 18]]])\n",
            "shape : torch.Size([3, 2, 3])\n"
          ]
        }
      ],
      "source": [
        "import torch\n",
        "# 스칼라\n",
        "scalar = torch.tensor(5)\n",
        "print(f'scalar : {scalar}')\n",
        "\n",
        "# 벡터\n",
        "vector = torch.tensor([1,2,3])\n",
        "print(f'vector : {vector}')\n",
        "\n",
        "# 행렬\n",
        "matrix = torch.tensor([[1,2,3],[4,5,6]])\n",
        "print(f'matrix : {matrix}')\n",
        "\n",
        "\n",
        "# 3차원 배열 For RGB\n",
        "array = torch.tensor([[[1,2,3],[4,5,6]],[[7,8,9],[10,11,12]],[[13,14,15],[16,17,18]]])\n",
        "print(f'array : {array}')\n",
        "print(f'shape : {array.shape}')"
      ]
    },
    {
      "cell_type": "markdown",
      "source": [
        "Pytorch를 활용하면 다양한 텐서를 만들수 있다."
      ],
      "metadata": {
        "id": "Qy4tA77rwCRp"
      }
    },
    {
      "cell_type": "code",
      "source": [
        "# 모든 요소를 0으로 채운 텐서\n",
        "zeros_tensor = torch.zeros(2,3)\n",
        "print(zeros_tensor)\n",
        "\n",
        "# 모든 요소를 1로 채운 텐서\n",
        "ones_tensor = torch.ones(2,2)\n",
        "print(ones_tensor)\n",
        "\n",
        "# 0부터 1까지 무작윈 난수가 생성 된 텐서\n",
        "rand_tensor = torch.rand(2,2)\n",
        "print(rand_tensor)\n",
        "\n",
        "# 정규 분포(평균 0 , 표준편차 1)에서 난수가 생성 된 텐서\n",
        "randn_tensor = torch.randn(2,2)\n",
        "print(randn_tensor)\n",
        "\n",
        "# 시작과 끝 사이게 균등하게 차이가 나게 n개가 생겅 된 1차원 텐서\n",
        "linspace_tensor = torch.linspace(1, 10 , 5) # 시작과 끝을 포함\n",
        "print(linspace_tensor)\n",
        "\n",
        "# 시작과 끝 사이에 n씩 증가하는 1차원 텐서\n",
        "arange_tensor = torch.arange(1,10,2) # 끝인 10은 포함 안해\n",
        "print(arange_tensor)"
      ],
      "metadata": {
        "colab": {
          "base_uri": "https://localhost:8080/"
        },
        "id": "brXDqaymwMZn",
        "outputId": "c2c5106b-9a2a-44d0-f5df-3b9ca5d49172"
      },
      "execution_count": 34,
      "outputs": [
        {
          "output_type": "stream",
          "name": "stdout",
          "text": [
            "tensor([[0., 0., 0.],\n",
            "        [0., 0., 0.]])\n",
            "tensor([[1., 1.],\n",
            "        [1., 1.]])\n",
            "tensor([[0.6335, 0.4750],\n",
            "        [0.4620, 0.7347]])\n",
            "tensor([[ 0.5696,  0.4204],\n",
            "        [ 1.0093, -0.7085]])\n",
            "tensor([ 1.0000,  3.2500,  5.5000,  7.7500, 10.0000])\n",
            "tensor([1, 3, 5, 7, 9])\n"
          ]
        }
      ]
    },
    {
      "cell_type": "markdown",
      "source": [
        "### 2. tensor 속성\n",
        "tensor속성 즉 데이터의 속성을 확인하기 위한 방법이 있다.\n",
        "\n",
        "다시 말해\n",
        "- 데이터의 형태\n",
        "- 자료형태\n",
        "- 연산 장치\n",
        "- 차원 수\n",
        "- 원소 개수 등\n",
        "\n",
        "을 파악하기 위한 다양한 코드가 존재한다.\n"
      ],
      "metadata": {
        "id": "3qZYi2qGodPE"
      }
    },
    {
      "cell_type": "code",
      "source": [
        "# 벡터 생성\n",
        "vector = torch.tensor([1,2,3])\n",
        "vector_float = torch.tensor([1.2, 2, 3])\n",
        "\n",
        "# 데이터의 형태\n",
        "print(f'데이터의 형태 : {vector.shape}')\n",
        "## torch.Size([3]) 1차원 벡터 형태에 3개의 데이터 값(column)이 들어가 있다.\n",
        "\n",
        "# 자료형태\n",
        "print(f'자료형태 : {vector.dtype}')\n",
        "## torch.int64\n",
        "\n",
        "print(f'자료형태 : {vector_float.dtype}')\n",
        "## torch.float32 하나라도 float이 있으면 float 형태로\n",
        "\n",
        "# 연산 장치\n",
        "print(f'연산 장치 : {vector.device}')\n",
        "## cpu\n"
      ],
      "metadata": {
        "colab": {
          "base_uri": "https://localhost:8080/"
        },
        "id": "ZpKhwAvCqAwf",
        "outputId": "4ae6b2ee-a9e2-4c9d-9ba4-9fcca2611c89"
      },
      "execution_count": 7,
      "outputs": [
        {
          "output_type": "stream",
          "name": "stdout",
          "text": [
            "데이터의 형태 : torch.Size([3])\n",
            "자료형태 : torch.int64\n",
            "자료형태 : torch.float32\n",
            "연산 장치 : cpu\n"
          ]
        }
      ]
    },
    {
      "cell_type": "code",
      "source": [
        "# 2차원 행렬 생성\n",
        "matrix = torch.tensor([[1, 2, 3], [4, 5, 6]])\n",
        "## 주의 각 행에 대한 column의 갯수가 동일해야 한다.\n",
        "### 즉 torch.tensor([[1, 2, 3], [4, 5]]) => ValueError 가발생한다.\n",
        "\n",
        "# 데이터의 형태\n",
        "print(f'데이터의 형태 : {matrix.shape}')\n",
        "## torch.Size([2, 3]) 2행, 3열\n",
        "\n",
        "# 차원의 수\n",
        "print(f'차원의 수 : {matrix.ndim}')\n",
        "## 2  2차원 행렬이다. 라고 알려주는 것\n",
        "\n",
        "# 총 원소 개수\n",
        "print(f'총 원소 개수 : {matrix.numel()}')\n",
        "## 6 총 데이터의 갯수"
      ],
      "metadata": {
        "colab": {
          "base_uri": "https://localhost:8080/"
        },
        "id": "tWTBzNEuqqa1",
        "outputId": "3f7c988e-dd85-440b-d8a6-4322e672a737"
      },
      "execution_count": 14,
      "outputs": [
        {
          "output_type": "stream",
          "name": "stdout",
          "text": [
            "데이터의 형태 : torch.Size([2, 3])\n",
            "차원의 수 : 2\n",
            "총 원소 개수 : 6\n"
          ]
        }
      ]
    },
    {
      "cell_type": "markdown",
      "source": [
        "### 텐서의 차원 변환\n",
        "\n",
        "ML, DL을 하는 과정에서 다양한 데이터를 마주하게 될 것이다.\n",
        "\n",
        "차원 변환은 다양한 데이터를 모델의 입출력 형태에 맞추거나,\n",
        "특정 공식을 수행하기 위해 진행하는 경우가 많다.\n",
        "\n",
        "reshape()"
      ],
      "metadata": {
        "id": "DwJ0mfLBtRAH"
      }
    },
    {
      "cell_type": "code",
      "source": [
        "reshape = torch.tensor([[1,2,3], [4,5,6]])\n",
        "print(f\"차원 변환 전 : {reshape.shape}\")\n",
        "# [2,3] 2행 3열\n",
        "\n",
        "reshape = reshape.reshape(3,2)\n",
        "print(f\"차원 변환 후 : {reshape.shape}\")\n",
        "# [3,2] 3행 2열\n",
        "\n",
        "# 1차원 벡터로의 변환\n",
        "reshape = reshape.reshape(-1)\n",
        "print(f\"차원 변환 후 : {reshape.shape}\")\n",
        "# [6] 1차원 벡터\n",
        "print(reshape) # tensor([1, 2, 3, 4, 5, 6])\n"
      ],
      "metadata": {
        "colab": {
          "base_uri": "https://localhost:8080/"
        },
        "id": "00VrSmOcrmLV",
        "outputId": "8b5a4ce1-006a-47eb-ca71-e4c47cfac493"
      },
      "execution_count": 20,
      "outputs": [
        {
          "output_type": "stream",
          "name": "stdout",
          "text": [
            "차원 변환 전 : torch.Size([2, 3])\n",
            "차원 변환 후 : torch.Size([3, 2])\n",
            "차원 변환 후 : torch.Size([6])\n",
            "tensor([1, 2, 3, 4, 5, 6])\n"
          ]
        }
      ]
    },
    {
      "cell_type": "markdown",
      "source": [
        "### tensor의 자료형"
      ],
      "metadata": {
        "id": "xBdLSsCausuM"
      }
    },
    {
      "cell_type": "code",
      "source": [
        "tensor = torch.rand(2,3) # 2행 3열의 무작위 난수 생성\n",
        "print(f\"dtype :{tensor.dtype}\") # dtype :torch.float32\n",
        "\n",
        "tensor64 = torch.rand((2,3), dtype = torch.float64)\n",
        "print(f\"dtype :{tensor64.dtype}\") # dtype :torch.float64\n",
        "\n",
        "tensor_to = tensor.to(torch.float64)\n",
        "print(f\"dtype :{tensor_to.dtype}\") # dtype :torch.float64"
      ],
      "metadata": {
        "colab": {
          "base_uri": "https://localhost:8080/"
        },
        "id": "iICursUlt6qv",
        "outputId": "0c0dac5d-7e42-474f-eb1a-14da7e004b92"
      },
      "execution_count": 24,
      "outputs": [
        {
          "output_type": "stream",
          "name": "stdout",
          "text": [
            "dtype :torch.float32\n",
            "dtype :torch.float64\n",
            "dtype :torch.float64\n"
          ]
        }
      ]
    },
    {
      "cell_type": "markdown",
      "source": [
        "### 장치 설정"
      ],
      "metadata": {
        "id": "8h9wGS8JvhDz"
      }
    },
    {
      "cell_type": "code",
      "source": [
        "# CUDA 또는 CPU 장치 설정\n",
        "device = 'cuda' if torch.cuda.is_available() else 'cpu'\n",
        "\n",
        "# CPU와 GPU에 각각 텐서 생성\n",
        "cpu_tensor = torch.FloatTensor([1, 2, 3])\n",
        "gpu_tensor = torch.cuda.FloatTensor([1, 2, 3]) if torch.cuda.is_available() else cpu_tensor\n",
        "\n",
        "# 설정한 장치에 텐서 생성\n",
        "tensor = torch.tensor([1, 2, 3], device=device)\n",
        "\n",
        "# 출력\n",
        "print(f\"Device in use: {device}\")\n",
        "print(f\"CPU Tensor: {cpu_tensor}\")\n",
        "print(f\"GPU Tensor: {gpu_tensor}\")\n",
        "print(f\"Tensor on {device}: {tensor}\")"
      ],
      "metadata": {
        "colab": {
          "base_uri": "https://localhost:8080/"
        },
        "id": "8Q7YVmg9u-lK",
        "outputId": "42dd23c3-e9a4-4f4a-82bd-4bbff4d709e8"
      },
      "execution_count": 26,
      "outputs": [
        {
          "output_type": "stream",
          "name": "stdout",
          "text": [
            "Device in use: cpu\n",
            "CPU Tensor: tensor([1., 2., 3.])\n",
            "GPU Tensor: tensor([1., 2., 3.])\n",
            "Tensor on cpu: tensor([1, 2, 3])\n"
          ]
        }
      ]
    },
    {
      "cell_type": "markdown",
      "source": [
        "### Pytorch 산술 연산\n",
        "\n",
        "- 요소별 연산\n",
        "\n",
        "  - PyTorch에서는 덧셈(+), 뺄셈(-), 곱셈(*), 나눗셈(/) 수행할 수 있다.\n",
        "\n",
        "- 절댓값, 제곱근, 지수, 로그 연산\n",
        "\n",
        "  - PyTorch는 절댓값(torch.abs()), 제곱근(torch.sqrt()), 지수(torch.exp()), 로그(torch.log()) 등 다양한 수학적 연산을 제공"
      ],
      "metadata": {
        "id": "UGQhKlL5yAaa"
      }
    },
    {
      "cell_type": "code",
      "source": [
        "a = torch.tensor([1, 2, 3])\n",
        "b = torch.tensor([4, 5, 6])\n",
        "\n",
        "print(f\"a + b = {a + b}\")  # 덧셈\n",
        "print(f\"a - b = {a - b}\")  # 뺄셈\n",
        "print(f\"a * b = {a * b}\")  # 요소별 곱셈\n",
        "print(f\"a / b = {a / b}\")  # 요소별 나눗셈"
      ],
      "metadata": {
        "colab": {
          "base_uri": "https://localhost:8080/"
        },
        "id": "c4XOh1cvvl9k",
        "outputId": "657b3d0b-ed04-4089-dfc6-7122f85dcf7e"
      },
      "execution_count": 35,
      "outputs": [
        {
          "output_type": "stream",
          "name": "stdout",
          "text": [
            "a + b = tensor([5, 7, 9])\n",
            "a - b = tensor([-3, -3, -3])\n",
            "a * b = tensor([ 4, 10, 18])\n",
            "a / b = tensor([0.2500, 0.4000, 0.5000])\n"
          ]
        }
      ]
    },
    {
      "cell_type": "markdown",
      "source": [
        "### [벡터의 내적 (Dot Product) 정리]\n",
        "\n",
        "1. 벡터 내적이란?\n",
        "\n",
        "벡터의 내적 : 두 벡터가 얼마나 같은 방향을 향하고 있는지를 하나의 숫자로 나타내는 연산. 연산 결과는 방향이 없는 스칼라 값.\n",
        "\n",
        "이 값은 두 벡터의 유사도를 측정하거나, 한 벡터가 다른 벡터에 얼마나 투영되는지를 계산하는 등 머신러닝과 선형대수학에서 사용\n",
        "\n",
        "---\n",
        "\n",
        "2. 계산 방법\n",
        "\n",
        "내적은 각 벡터의 같은 위치에 있는 성분(component)끼리 곱한 후, 그 값들을 모두 더한다.\n",
        "\n",
        "- 예시\n",
        "\n",
        "  - 2차원 벡터 **a**와 **b**가 있을 때,\n",
        "\n",
        "  - **a** = `[2, 3]`\n",
        "  - **b** = `[4, 1]`\n",
        "\n",
        "- 두 벡터의 내적 **a · b**는 다음과 같이 계산된다.\n",
        "\n",
        "  - `(2 * 4) + (3 * 1) = 8 + 3 = 11`\n",
        "\n",
        "따라서 두 벡터의 내적 값은 **11**\n",
        "\n",
        "---\n",
        "\n",
        "3. 내적의 기하학적 의미\n",
        "\n",
        "내적의 결과값(부호)을 통해 두 벡터의 방향 관계를 직관적으로 파악 가능\n",
        "\n",
        "* **내적이 양수(+)**: 두 벡터가 **비슷한(예각) 방향** (0° ≤ θ < 90°)\n",
        "* **내적이 0**: 두 벡터가 서로 **수직(직각)** (θ = 90°)\n",
        "* **내적이 음수(-)**: 두 벡터가 **반대(둔각) 방향** (90° < θ ≤ 180°)\n"
      ],
      "metadata": {
        "id": "kqKd95ENyui_"
      }
    },
    {
      "cell_type": "code",
      "source": [
        "# Python (Numpy) 코드로 내적 계산하기\n",
        "import numpy as np\n",
        "\n",
        "a = np.array([2, 3])\n",
        "b = np.array([4, 1])\n",
        "\n",
        "# np.dot() 함수 사용\n",
        "dot_product = np.dot(a, b)\n",
        "\n",
        "print(f\"벡터 a: {a}\")\n",
        "print(f\"벡터 b: {b}\")\n",
        "print(f\"a와 b의 내적: {dot_product}\")\n",
        "\n",
        "# Pytorch로 내적 계산\n",
        "m1 = torch.tensor([1,2,3])\n",
        "m2 = torch.tensor([4,5,6])\n",
        "\n",
        "dot = torch.dot(m1,m2)\n",
        "\n",
        "print(f\"m1 : {m1}\")\n",
        "print(f\"m2 : {m2}\")\n",
        "\n",
        "print(f\"m1과 m2의 내적 : {dot}\")\n"
      ],
      "metadata": {
        "colab": {
          "base_uri": "https://localhost:8080/"
        },
        "id": "owrVXk2ZyXhc",
        "outputId": "2559c125-d77c-4181-f71a-c695ec3af41f"
      },
      "execution_count": 37,
      "outputs": [
        {
          "output_type": "stream",
          "name": "stdout",
          "text": [
            "벡터 a: [2 3]\n",
            "벡터 b: [4 1]\n",
            "a와 b의 내적: 11\n",
            "m1 : tensor([1, 2, 3])\n",
            "m2 : tensor([4, 5, 6])\n",
            "m1과 m2의 내적 : 32\n"
          ]
        }
      ]
    },
    {
      "cell_type": "markdown",
      "source": [
        "### 행렬 곱셈\n",
        "- **@** 연산자\n",
        "- **torch.matmul()**    OR    **행렬에 한해서면 torch.mm**"
      ],
      "metadata": {
        "id": "Kw6niwg90AAf"
      }
    },
    {
      "cell_type": "code",
      "source": [
        "m1 = torch.tensor([[1, 2], [3, 4]])\n",
        "m2 = torch.tensor([[5, 6], [7, 8]])\n",
        "\n",
        "# @ 연산자\n",
        "print(f\"@ 연산자 행렬 곱:\\n{m1 @ m2}\")\n",
        "\n",
        "# torch.mm()\n",
        "print(f\"torch.mm() 행렬 곱:\\n{torch.mm(m1, m2)}\")\n",
        "\n",
        "# torch.matmul()\n",
        "print(f\"torch.matmul() 행렬 곱 : \\n{torch.matmul(m1, m2)}\")\n"
      ],
      "metadata": {
        "colab": {
          "base_uri": "https://localhost:8080/"
        },
        "id": "0Y7oeDTkz05U",
        "outputId": "6e17879f-1fc0-4726-8a99-f2729c1841c5"
      },
      "execution_count": 38,
      "outputs": [
        {
          "output_type": "stream",
          "name": "stdout",
          "text": [
            "@ 연산자 행렬 곱:\n",
            "tensor([[19, 22],\n",
            "        [43, 50]])\n",
            "torch.mm() 행렬 곱:\n",
            "tensor([[19, 22],\n",
            "        [43, 50]])\n",
            "torch.matmul() 행렬 곱 : \n",
            "tensor([[19, 22],\n",
            "        [43, 50]])\n"
          ]
        }
      ]
    },
    {
      "cell_type": "markdown",
      "source": [
        "### 통계 함수\n",
        "\n",
        "PyTorch는 합계, 평균, 표준편차, 최대값 및 최소값 등의 통계 함수를 지원한다.\n",
        "\n",
        "이를 통해 데이터를 분석하거나 모델 학습 중 중요한 통계 정보를 쉽게 계산할 수 있다.\n",
        "\n",
        "- 합계: torch.sum()\n",
        "- 평균: torch.mean()\n",
        "- 표준편차: torch.std()\n",
        "- 최대값, 최소값: torch.max(), torch.min()\n",
        "\n",
        "최대값, 최소값의 인덱스를 반환하여 데이터의 위치를 파악하는데 유용하다.\n",
        "- 최대값 index : torch.argmax()\n",
        "- 최소값 index : torch.argmin()\n"
      ],
      "metadata": {
        "id": "-x5sS0n5_FZD"
      }
    },
    {
      "cell_type": "code",
      "source": [
        "st = torch.randn(3, 3)  # 3x3 랜덤 행렬 생성\n",
        "\n",
        "print(st)\n",
        "print(\"Sum\", torch.sum(st))  # 모든 요소의 합\n",
        "print(f\"Mean: {torch.mean(st)}\")  # 평균\n",
        "print(f\"Standard deviation: {torch.std(st)}\")  # 표준편차\n",
        "print(f\"Max: {torch.max(st)}\")  # 최대값\n",
        "print(f\"Min: {torch.min(st)}\")  # 최소값\n",
        "\n",
        "d = torch.tensor([10, 30, 15, 25])\n",
        "\n",
        "print(\"Index max :\", torch.argmax(d))  # 최대값의 인덱스\n",
        "print(\"Index min :\", torch.argmin(d))  # 최소값의 인덱스"
      ],
      "metadata": {
        "colab": {
          "base_uri": "https://localhost:8080/"
        },
        "id": "YRVddQyQ0s-n",
        "outputId": "1a57296a-3415-4a8c-aa47-b4374a30081c"
      },
      "execution_count": 40,
      "outputs": [
        {
          "output_type": "stream",
          "name": "stdout",
          "text": [
            "tensor([[-0.2784, -0.0118,  1.0172],\n",
            "        [ 0.6903, -0.0086,  1.4010],\n",
            "        [ 0.0198,  1.5891,  2.3169]])\n",
            "Sum tensor(6.7356)\n",
            "Mean: 0.7483996152877808\n",
            "Standard deviation: 0.8947514295578003\n",
            "Max: 2.3168933391571045\n",
            "Min: -0.27838099002838135\n",
            "Index max : tensor(1)\n",
            "Index min : tensor(0)\n"
          ]
        }
      ]
    },
    {
      "cell_type": "code",
      "source": [],
      "metadata": {
        "id": "o--DuVyoD4O3"
      },
      "execution_count": null,
      "outputs": []
    }
  ]
}